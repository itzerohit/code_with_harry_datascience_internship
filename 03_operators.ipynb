{
 "cells": [
  {
   "cell_type": "markdown",
   "id": "dfcdf761-3e65-4f37-bd1e-7520a228c7b5",
   "metadata": {},
   "source": [
    "Arithmetic Operator "
   ]
  },
  {
   "cell_type": "code",
   "execution_count": null,
   "id": "f35163f7-9ec9-486d-8c9f-a9aa9144c15b",
   "metadata": {},
   "outputs": [],
   "source": [
    "a = 10\n",
    "b = 5"
   ]
  },
  {
   "cell_type": "code",
   "execution_count": 2,
   "id": "5129936c-7b10-4213-b697-0b100c202b42",
   "metadata": {},
   "outputs": [
    {
     "data": {
      "text/plain": [
       "15"
      ]
     },
     "execution_count": 2,
     "metadata": {},
     "output_type": "execute_result"
    }
   ],
   "source": [
    "a+b"
   ]
  },
  {
   "cell_type": "code",
   "execution_count": 3,
   "id": "4e2e355e-9d64-458e-b469-746defe07cea",
   "metadata": {},
   "outputs": [
    {
     "data": {
      "text/plain": [
       "5"
      ]
     },
     "execution_count": 3,
     "metadata": {},
     "output_type": "execute_result"
    }
   ],
   "source": [
    "a-b"
   ]
  },
  {
   "cell_type": "code",
   "execution_count": 4,
   "id": "8b2822bd-7112-4a8a-aa58-894104690738",
   "metadata": {},
   "outputs": [
    {
     "data": {
      "text/plain": [
       "50"
      ]
     },
     "execution_count": 4,
     "metadata": {},
     "output_type": "execute_result"
    }
   ],
   "source": [
    "a*b"
   ]
  },
  {
   "cell_type": "code",
   "execution_count": 5,
   "id": "0634fee3-0aa9-4570-9f39-f16fb9ec8b3d",
   "metadata": {},
   "outputs": [
    {
     "data": {
      "text/plain": [
       "2.0"
      ]
     },
     "execution_count": 5,
     "metadata": {},
     "output_type": "execute_result"
    }
   ],
   "source": [
    "a/b"
   ]
  },
  {
   "cell_type": "code",
   "execution_count": 7,
   "id": "49e627de-c297-4bf0-8b99-72c375cf055f",
   "metadata": {},
   "outputs": [
    {
     "data": {
      "text/plain": [
       "2"
      ]
     },
     "execution_count": 7,
     "metadata": {},
     "output_type": "execute_result"
    }
   ],
   "source": [
    "a//b # This will print the integer result "
   ]
  },
  {
   "cell_type": "code",
   "execution_count": 8,
   "id": "fc294395-5ba2-40cc-8526-6dcdb889ff18",
   "metadata": {},
   "outputs": [
    {
     "data": {
      "text/plain": [
       "4"
      ]
     },
     "execution_count": 8,
     "metadata": {},
     "output_type": "execute_result"
    }
   ],
   "source": [
    "2**2"
   ]
  },
  {
   "cell_type": "code",
   "execution_count": 9,
   "id": "65209821-770a-4a4e-9b6f-74db39a623fd",
   "metadata": {},
   "outputs": [
    {
     "data": {
      "text/plain": [
       "32"
      ]
     },
     "execution_count": 9,
     "metadata": {},
     "output_type": "execute_result"
    }
   ],
   "source": [
    "2**5"
   ]
  },
  {
   "cell_type": "code",
   "execution_count": 10,
   "id": "a5b73740-2c2b-4481-b67f-1eeac2566c6f",
   "metadata": {},
   "outputs": [
    {
     "data": {
      "text/plain": [
       "100000"
      ]
     },
     "execution_count": 10,
     "metadata": {},
     "output_type": "execute_result"
    }
   ],
   "source": [
    "a**b\n"
   ]
  },
  {
   "cell_type": "code",
   "execution_count": 11,
   "id": "bb5ca993-1d3a-45e5-b1e5-6b04d35233ad",
   "metadata": {},
   "outputs": [
    {
     "data": {
      "text/plain": [
       "0"
      ]
     },
     "execution_count": 11,
     "metadata": {},
     "output_type": "execute_result"
    }
   ],
   "source": [
    "a%b"
   ]
  },
  {
   "cell_type": "markdown",
   "id": "4b77afe5-b70f-439e-8e75-e94104e4ccbb",
   "metadata": {},
   "source": [
    "Comparison Operator"
   ]
  },
  {
   "cell_type": "code",
   "execution_count": 13,
   "id": "6ff8b71b-3c7b-4020-a649-4c20e1a0c861",
   "metadata": {},
   "outputs": [],
   "source": [
    "a = 45\n",
    "b = 4"
   ]
  },
  {
   "cell_type": "code",
   "execution_count": 14,
   "id": "837f00f5-61bf-479f-b785-e23b50d22a7a",
   "metadata": {},
   "outputs": [
    {
     "data": {
      "text/plain": [
       "False"
      ]
     },
     "execution_count": 14,
     "metadata": {},
     "output_type": "execute_result"
    }
   ],
   "source": [
    "a<b"
   ]
  },
  {
   "cell_type": "code",
   "execution_count": 15,
   "id": "d171abf7-dcd2-49c1-811f-81b0edeb83dd",
   "metadata": {},
   "outputs": [
    {
     "data": {
      "text/plain": [
       "True"
      ]
     },
     "execution_count": 15,
     "metadata": {},
     "output_type": "execute_result"
    }
   ],
   "source": [
    "a>b"
   ]
  },
  {
   "cell_type": "code",
   "execution_count": 16,
   "id": "f2fcd3f5-eb0e-4f1a-9e80-72cb4b18f5ef",
   "metadata": {},
   "outputs": [
    {
     "data": {
      "text/plain": [
       "True"
      ]
     },
     "execution_count": 16,
     "metadata": {},
     "output_type": "execute_result"
    }
   ],
   "source": [
    "a>=b"
   ]
  },
  {
   "cell_type": "code",
   "execution_count": 17,
   "id": "9a89c908-d290-42df-b156-3cc348be1e71",
   "metadata": {},
   "outputs": [
    {
     "data": {
      "text/plain": [
       "False"
      ]
     },
     "execution_count": 17,
     "metadata": {},
     "output_type": "execute_result"
    }
   ],
   "source": [
    "a<=b"
   ]
  },
  {
   "cell_type": "code",
   "execution_count": 18,
   "id": "303a130c-54a6-4203-a7f0-a4ea4dab36af",
   "metadata": {},
   "outputs": [],
   "source": [
    "c = 3"
   ]
  },
  {
   "cell_type": "code",
   "execution_count": 19,
   "id": "c767e482-4e3b-46e5-9847-edda034ff2da",
   "metadata": {},
   "outputs": [
    {
     "data": {
      "text/plain": [
       "False"
      ]
     },
     "execution_count": 19,
     "metadata": {},
     "output_type": "execute_result"
    }
   ],
   "source": [
    "a == c # agar a= c karenge iska matlab a aur. ko same kar do isliye humlog double equal to lagagte hai "
   ]
  },
  {
   "cell_type": "code",
   "execution_count": 20,
   "id": "fde22c6a-69dc-47b3-b71d-5f06a38f0ab7",
   "metadata": {},
   "outputs": [
    {
     "data": {
      "text/plain": [
       "True"
      ]
     },
     "execution_count": 20,
     "metadata": {},
     "output_type": "execute_result"
    }
   ],
   "source": [
    "a!=c"
   ]
  },
  {
   "cell_type": "markdown",
   "id": "a71724d6-639d-4273-869b-3995b91ce459",
   "metadata": {},
   "source": [
    "Logical Operators"
   ]
  },
  {
   "cell_type": "code",
   "execution_count": 21,
   "id": "531438c4-7170-4483-8c8b-27d50c5d30eb",
   "metadata": {},
   "outputs": [],
   "source": [
    "# used to combine conditional statement"
   ]
  },
  {
   "cell_type": "code",
   "execution_count": 22,
   "id": "380dc07a-84d4-4a3c-a4f0-fcdf14ef1554",
   "metadata": {},
   "outputs": [],
   "source": [
    "b1 = True\n",
    "b2 = False"
   ]
  },
  {
   "cell_type": "code",
   "execution_count": 23,
   "id": "6292292f-6a0a-4467-a6d8-f559972d43c8",
   "metadata": {},
   "outputs": [
    {
     "data": {
      "text/plain": [
       "False"
      ]
     },
     "execution_count": 23,
     "metadata": {},
     "output_type": "execute_result"
    }
   ],
   "source": [
    "not(b1)"
   ]
  },
  {
   "cell_type": "code",
   "execution_count": 24,
   "id": "471a2a76-eaaf-46a1-8fcd-e5e04a4b4100",
   "metadata": {},
   "outputs": [
    {
     "data": {
      "text/plain": [
       "True"
      ]
     },
     "execution_count": 24,
     "metadata": {},
     "output_type": "execute_result"
    }
   ],
   "source": [
    "not(b2)"
   ]
  },
  {
   "cell_type": "code",
   "execution_count": 25,
   "id": "2e842927-aac5-4d25-a0be-10616fcf9c08",
   "metadata": {},
   "outputs": [
    {
     "data": {
      "text/plain": [
       "False"
      ]
     },
     "execution_count": 25,
     "metadata": {},
     "output_type": "execute_result"
    }
   ],
   "source": [
    "b1 & b2"
   ]
  },
  {
   "cell_type": "code",
   "execution_count": 26,
   "id": "3a4bfe3f-a312-4d59-bb96-9267ce229e59",
   "metadata": {},
   "outputs": [
    {
     "data": {
      "text/plain": [
       "True"
      ]
     },
     "execution_count": 26,
     "metadata": {},
     "output_type": "execute_result"
    }
   ],
   "source": [
    "b1 or b2"
   ]
  },
  {
   "cell_type": "markdown",
   "id": "6cf050a4-8854-41fd-b112-dc6001d57fde",
   "metadata": {},
   "source": [
    "# Assisnment Operator "
   ]
  },
  {
   "cell_type": "code",
   "execution_count": 27,
   "id": "f07f49dd-9afc-4fd5-ada6-c783772ec2f9",
   "metadata": {},
   "outputs": [],
   "source": [
    "a = 45"
   ]
  },
  {
   "cell_type": "code",
   "execution_count": 28,
   "id": "6b186e89-c428-47f5-9264-9f44c5c41d78",
   "metadata": {},
   "outputs": [],
   "source": [
    "a += 5"
   ]
  },
  {
   "cell_type": "code",
   "execution_count": 29,
   "id": "dfc685eb-f716-49ea-83d2-5496204677f5",
   "metadata": {},
   "outputs": [
    {
     "data": {
      "text/plain": [
       "50"
      ]
     },
     "execution_count": 29,
     "metadata": {},
     "output_type": "execute_result"
    }
   ],
   "source": [
    "a"
   ]
  },
  {
   "cell_type": "code",
   "execution_count": 30,
   "id": "c49096b9-3ea1-437a-8def-3011f85dbad9",
   "metadata": {},
   "outputs": [],
   "source": [
    "a =+ 5\n"
   ]
  },
  {
   "cell_type": "code",
   "execution_count": 31,
   "id": "207fbae8-c65a-4bb7-ab27-852960bcb22d",
   "metadata": {},
   "outputs": [
    {
     "data": {
      "text/plain": [
       "5"
      ]
     },
     "execution_count": 31,
     "metadata": {},
     "output_type": "execute_result"
    }
   ],
   "source": [
    "a"
   ]
  },
  {
   "cell_type": "code",
   "execution_count": 32,
   "id": "b04bfe5e-c003-46ca-8a2b-fbd5fa595380",
   "metadata": {},
   "outputs": [],
   "source": [
    "a+=5"
   ]
  },
  {
   "cell_type": "code",
   "execution_count": 33,
   "id": "a18185b7-deda-46d5-95e6-00ba794fc8a1",
   "metadata": {},
   "outputs": [
    {
     "data": {
      "text/plain": [
       "10"
      ]
     },
     "execution_count": 33,
     "metadata": {},
     "output_type": "execute_result"
    }
   ],
   "source": [
    "a"
   ]
  },
  {
   "cell_type": "code",
   "execution_count": 34,
   "id": "eab4515b-986d-4d00-bfd3-996618b2661a",
   "metadata": {},
   "outputs": [],
   "source": [
    "a -= 4"
   ]
  },
  {
   "cell_type": "code",
   "execution_count": 35,
   "id": "90a6372e-2b0d-492c-b65f-085415d8af81",
   "metadata": {},
   "outputs": [
    {
     "data": {
      "text/plain": [
       "6"
      ]
     },
     "execution_count": 35,
     "metadata": {},
     "output_type": "execute_result"
    }
   ],
   "source": [
    "a"
   ]
  },
  {
   "cell_type": "code",
   "execution_count": 36,
   "id": "7498d7b3-f721-4de4-bb21-54594d60f248",
   "metadata": {},
   "outputs": [],
   "source": [
    "a *= 5"
   ]
  },
  {
   "cell_type": "code",
   "execution_count": 37,
   "id": "fc579a1a-7c91-407b-a3c8-dd49b2e6a6fa",
   "metadata": {},
   "outputs": [
    {
     "data": {
      "text/plain": [
       "30"
      ]
     },
     "execution_count": 37,
     "metadata": {},
     "output_type": "execute_result"
    }
   ],
   "source": [
    "a"
   ]
  },
  {
   "cell_type": "code",
   "execution_count": 38,
   "id": "6a760db5-2274-4d69-a806-1e468a44e072",
   "metadata": {},
   "outputs": [],
   "source": [
    "a /=5"
   ]
  },
  {
   "cell_type": "code",
   "execution_count": 39,
   "id": "c1ec1345-0494-4cbc-87dc-21ee879f3818",
   "metadata": {},
   "outputs": [
    {
     "data": {
      "text/plain": [
       "6.0"
      ]
     },
     "execution_count": 39,
     "metadata": {},
     "output_type": "execute_result"
    }
   ],
   "source": [
    "a"
   ]
  },
  {
   "cell_type": "code",
   "execution_count": 40,
   "id": "c9ee02c1-2ea5-40d0-914b-a510195e6a6e",
   "metadata": {},
   "outputs": [],
   "source": [
    "a //=5"
   ]
  },
  {
   "cell_type": "code",
   "execution_count": 41,
   "id": "1faba393-a8ff-4003-babc-5a26b3dbad0e",
   "metadata": {},
   "outputs": [
    {
     "data": {
      "text/plain": [
       "1.0"
      ]
     },
     "execution_count": 41,
     "metadata": {},
     "output_type": "execute_result"
    }
   ],
   "source": [
    "a"
   ]
  },
  {
   "cell_type": "code",
   "execution_count": 42,
   "id": "176450ba-4bad-4a67-b8a6-a63a4a9995fc",
   "metadata": {},
   "outputs": [],
   "source": [
    "a %= 5"
   ]
  },
  {
   "cell_type": "code",
   "execution_count": 43,
   "id": "f79ef7bd-a164-4718-b67e-4b82bb7f77c6",
   "metadata": {},
   "outputs": [
    {
     "data": {
      "text/plain": [
       "1.0"
      ]
     },
     "execution_count": 43,
     "metadata": {},
     "output_type": "execute_result"
    }
   ],
   "source": [
    "a"
   ]
  },
  {
   "cell_type": "code",
   "execution_count": 44,
   "id": "5ed95df0-4133-49fe-bb43-3466fe3a9f31",
   "metadata": {},
   "outputs": [],
   "source": [
    "a **= 5"
   ]
  },
  {
   "cell_type": "code",
   "execution_count": 45,
   "id": "be1f8bde-edab-4cc1-acee-d4accb787314",
   "metadata": {},
   "outputs": [
    {
     "data": {
      "text/plain": [
       "1.0"
      ]
     },
     "execution_count": 45,
     "metadata": {},
     "output_type": "execute_result"
    }
   ],
   "source": [
    "a"
   ]
  },
  {
   "cell_type": "markdown",
   "id": "acc15b8b-ca24-4d49-b553-6e3ed954cbf8",
   "metadata": {},
   "source": [
    "# Membership & identity Operators \n",
    "chck for presenece and objct identity"
   ]
  },
  {
   "cell_type": "code",
   "execution_count": 47,
   "id": "b2d43696-4449-455a-940e-fe2bee82c813",
   "metadata": {},
   "outputs": [],
   "source": [
    "a = 10\n",
    "b = 8"
   ]
  },
  {
   "cell_type": "code",
   "execution_count": 48,
   "id": "6491d645-f88f-4832-bb81-b4818e663cf9",
   "metadata": {},
   "outputs": [
    {
     "data": {
      "text/plain": [
       "False"
      ]
     },
     "execution_count": 48,
     "metadata": {},
     "output_type": "execute_result"
    }
   ],
   "source": [
    "a is b"
   ]
  },
  {
   "cell_type": "code",
   "execution_count": 49,
   "id": "337e8e2a-1a5d-4d6b-b8e7-d117adfa2061",
   "metadata": {},
   "outputs": [
    {
     "data": {
      "text/plain": [
       "True"
      ]
     },
     "execution_count": 49,
     "metadata": {},
     "output_type": "execute_result"
    }
   ],
   "source": [
    "a is not b"
   ]
  },
  {
   "cell_type": "code",
   "execution_count": null,
   "id": "ede2ad2f-c44a-4a44-b924-c9d5e157495e",
   "metadata": {},
   "outputs": [],
   "source": []
  }
 ],
 "metadata": {
  "kernelspec": {
   "display_name": "Python [conda env:miniconda3-eda-env]",
   "language": "python",
   "name": "conda-env-miniconda3-eda-env-py"
  },
  "language_info": {
   "codemirror_mode": {
    "name": "ipython",
    "version": 3
   },
   "file_extension": ".py",
   "mimetype": "text/x-python",
   "name": "python",
   "nbconvert_exporter": "python",
   "pygments_lexer": "ipython3",
   "version": "3.10.16"
  }
 },
 "nbformat": 4,
 "nbformat_minor": 5
}
