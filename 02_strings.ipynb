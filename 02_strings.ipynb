{
 "cells": [
  {
   "cell_type": "code",
   "execution_count": 1,
   "id": "1f5dd59f-f306-449a-9524-b8377ae360a7",
   "metadata": {},
   "outputs": [],
   "source": [
    "name = \"Rohit\""
   ]
  },
  {
   "cell_type": "code",
   "execution_count": 2,
   "id": "56e913d0-1678-4bc8-9303-7398023b7a7e",
   "metadata": {},
   "outputs": [
    {
     "data": {
      "text/plain": [
       "'Rohit'"
      ]
     },
     "execution_count": 2,
     "metadata": {},
     "output_type": "execute_result"
    }
   ],
   "source": [
    "name"
   ]
  },
  {
   "cell_type": "code",
   "execution_count": 5,
   "id": "ed0c08d7-a114-46a9-aee5-fa80d4099382",
   "metadata": {},
   "outputs": [
    {
     "data": {
      "text/plain": [
       "'ROHIT'"
      ]
     },
     "execution_count": 5,
     "metadata": {},
     "output_type": "execute_result"
    }
   ],
   "source": [
    "name.upper()"
   ]
  },
  {
   "cell_type": "code",
   "execution_count": 6,
   "id": "c3d8e2aa-62dd-495a-ace9-fe06e334f466",
   "metadata": {},
   "outputs": [
    {
     "data": {
      "text/plain": [
       "False"
      ]
     },
     "execution_count": 6,
     "metadata": {},
     "output_type": "execute_result"
    }
   ],
   "source": [
    "name.endswith(\"ry\")"
   ]
  },
  {
   "cell_type": "code",
   "execution_count": 7,
   "id": "adf6d122-7dba-4e9c-ac9e-cc8bab07ea22",
   "metadata": {},
   "outputs": [
    {
     "data": {
      "text/plain": [
       "0"
      ]
     },
     "execution_count": 7,
     "metadata": {},
     "output_type": "execute_result"
    }
   ],
   "source": [
    "name.count(\"a\")"
   ]
  },
  {
   "cell_type": "code",
   "execution_count": 8,
   "id": "304a1cea-5e47-41c3-9190-c3a917b50d35",
   "metadata": {},
   "outputs": [
    {
     "data": {
      "text/plain": [
       "0"
      ]
     },
     "execution_count": 8,
     "metadata": {},
     "output_type": "execute_result"
    }
   ],
   "source": [
    "name.count(\"r\")"
   ]
  },
  {
   "cell_type": "code",
   "execution_count": 9,
   "id": "2df5a46a-ebf1-4aa6-af4e-ba5b315ce87d",
   "metadata": {},
   "outputs": [
    {
     "data": {
      "text/plain": [
       "1"
      ]
     },
     "execution_count": 9,
     "metadata": {},
     "output_type": "execute_result"
    }
   ],
   "source": [
    "name.count(\"R\")"
   ]
  },
  {
   "cell_type": "markdown",
   "id": "5d00c9dd-d125-4b1d-9f09-8427118c49ca",
   "metadata": {},
   "source": [
    "len() -- Get length of a string"
   ]
  },
  {
   "cell_type": "code",
   "execution_count": 10,
   "id": "e43acc6b-a8fd-46fb-8537-a503c0e232af",
   "metadata": {},
   "outputs": [
    {
     "name": "stdout",
     "output_type": "stream",
     "text": [
      "6\n"
     ]
    }
   ],
   "source": [
    "s = \"Python\"\n",
    "print(len(s))"
   ]
  },
  {
   "cell_type": "markdown",
   "id": "82a0c9a7-ebeb-451c-84a8-70f41e65e500",
   "metadata": {},
   "source": [
    "lower() -- convert to lowercase "
   ]
  },
  {
   "cell_type": "code",
   "execution_count": 11,
   "id": "57b8cc10-d425-446a-b276-ed9f86d742a4",
   "metadata": {},
   "outputs": [
    {
     "name": "stdout",
     "output_type": "stream",
     "text": [
      "hello\n"
     ]
    }
   ],
   "source": [
    "s = \"Hello\"\n",
    "print(s.lower())"
   ]
  },
  {
   "cell_type": "markdown",
   "id": "90d43c8a-c2db-42b1-bb1d-84587bdce8c1",
   "metadata": {},
   "source": [
    "upper() -- Convert to uppercase "
   ]
  },
  {
   "cell_type": "code",
   "execution_count": 12,
   "id": "62f6d926-b368-408c-8199-7b684455798d",
   "metadata": {},
   "outputs": [
    {
     "name": "stdout",
     "output_type": "stream",
     "text": [
      "HELLO\n"
     ]
    }
   ],
   "source": [
    "s = \"Hello\"\n",
    "print(s.upper())"
   ]
  },
  {
   "cell_type": "markdown",
   "id": "7eba15c2-f4dd-4e4a-8e38-780361481b38",
   "metadata": {},
   "source": [
    "strip() -- Removing leading and trailing spaces "
   ]
  },
  {
   "cell_type": "code",
   "execution_count": 13,
   "id": "d6a55209-1153-430d-a96c-55bc5c67d6a8",
   "metadata": {},
   "outputs": [
    {
     "name": "stdout",
     "output_type": "stream",
     "text": [
      "Hello\n"
     ]
    }
   ],
   "source": [
    "s = \"   Hello  \"\n",
    "print(s.strip())"
   ]
  },
  {
   "cell_type": "markdown",
   "id": "7ce3c191-b968-4823-9fc8-fa2f25ab3ca1",
   "metadata": {},
   "source": [
    "replace() - Replace substring "
   ]
  },
  {
   "cell_type": "code",
   "execution_count": 15,
   "id": "452e4c82-d957-4d0d-9577-2b1612704194",
   "metadata": {},
   "outputs": [
    {
     "name": "stdout",
     "output_type": "stream",
     "text": [
      "I Like Python\n"
     ]
    }
   ],
   "source": [
    "s = \"I Like Java\"\n",
    "print(s.replace(\"Java\",\"Python\"))"
   ]
  },
  {
   "cell_type": "markdown",
   "id": "de3faddb-3639-4b51-90fe-ed9cd04cf170",
   "metadata": {},
   "source": [
    "split() -- Split string into list \n"
   ]
  },
  {
   "cell_type": "code",
   "execution_count": 16,
   "id": "9d35691a-d255-4bc8-a297-6952773ba93d",
   "metadata": {},
   "outputs": [
    {
     "name": "stdout",
     "output_type": "stream",
     "text": [
      "['apple', 'banana', 'cherry']\n"
     ]
    }
   ],
   "source": [
    "s = \"apple,banana,cherry\"\n",
    "print(s.split(\",\"))"
   ]
  },
  {
   "cell_type": "markdown",
   "id": "52500cf3-df42-4bf1-b543-c5ca2a9feb9b",
   "metadata": {},
   "source": [
    "join() -- join list into string"
   ]
  },
  {
   "cell_type": "code",
   "execution_count": 17,
   "id": "a67980a8-304f-4672-8fb5-8816a41781a5",
   "metadata": {},
   "outputs": [
    {
     "name": "stdout",
     "output_type": "stream",
     "text": [
      "Python is Fun\n"
     ]
    }
   ],
   "source": [
    "words = [\"Python\", \"is\", \"Fun\"]\n",
    "print(\" \".join(words))"
   ]
  },
  {
   "cell_type": "markdown",
   "id": "daf1f59a-7622-445a-b1ce-532748e2eb4b",
   "metadata": {},
   "source": [
    "find() --- Find index of substring (-1 if not found)\n"
   ]
  },
  {
   "cell_type": "code",
   "execution_count": 18,
   "id": "fc9d473e-83dd-44fd-a180-1e3b7ac8e781",
   "metadata": {},
   "outputs": [
    {
     "name": "stdout",
     "output_type": "stream",
     "text": [
      "7\n"
     ]
    }
   ],
   "source": [
    "s = \"Python Programming\"\n",
    "print(s.find(\"Pro\"))"
   ]
  },
  {
   "cell_type": "markdown",
   "id": "b2a8e275-8e23-42d9-a1d2-d04fb5b81217",
   "metadata": {},
   "source": [
    "count() -- Count occurrences of substring"
   ]
  },
  {
   "cell_type": "code",
   "execution_count": 20,
   "id": "f25efa37-eafe-4473-a9dd-37949c0169ec",
   "metadata": {},
   "outputs": [
    {
     "name": "stdout",
     "output_type": "stream",
     "text": [
      "3\n"
     ]
    }
   ],
   "source": [
    "s = \"banana\"\n",
    "print(s.count(\"a\"))"
   ]
  },
  {
   "cell_type": "markdown",
   "id": "abf3a3d7-b711-4859-bd2c-81297cabab0a",
   "metadata": {},
   "source": [
    "startswith()/ edswith() -- Check prefix/suffix\n"
   ]
  },
  {
   "cell_type": "code",
   "execution_count": 22,
   "id": "179f9a26-2e19-4973-8d82-98055280cef3",
   "metadata": {},
   "outputs": [
    {
     "name": "stdout",
     "output_type": "stream",
     "text": [
      "True\n",
      "True\n"
     ]
    }
   ],
   "source": [
    "s = \"Python is Fun\"\n",
    "print(s.startswith(\"Py\"))\n",
    "print(s.endswith(\"Fun\"))"
   ]
  },
  {
   "cell_type": "code",
   "execution_count": 23,
   "id": "682be5c5-7ac0-47bd-9085-c726b7bab4b3",
   "metadata": {},
   "outputs": [
    {
     "data": {
      "text/plain": [
       "'Pytho'"
      ]
     },
     "execution_count": 23,
     "metadata": {},
     "output_type": "execute_result"
    }
   ],
   "source": [
    "s[0:5]"
   ]
  },
  {
   "cell_type": "markdown",
   "id": "cee369dd-4db2-4dff-94d4-b0e5d78c829f",
   "metadata": {},
   "source": [
    "Check if all chars are digit "
   ]
  },
  {
   "cell_type": "code",
   "execution_count": 26,
   "id": "c1eff4e3-6756-4581-88ae-36ea8fb5e433",
   "metadata": {},
   "outputs": [
    {
     "data": {
      "text/plain": [
       "False"
      ]
     },
     "execution_count": 26,
     "metadata": {},
     "output_type": "execute_result"
    }
   ],
   "source": [
    "s.isdigit()"
   ]
  },
  {
   "cell_type": "markdown",
   "id": "046047e0-8f04-4c14-af3d-32f5e8d6bb62",
   "metadata": {},
   "source": [
    "check if all chars are letters"
   ]
  },
  {
   "cell_type": "code",
   "execution_count": 28,
   "id": "ef53f5b3-dee8-4966-a24d-0ce66de78fc1",
   "metadata": {},
   "outputs": [
    {
     "data": {
      "text/plain": [
       "False"
      ]
     },
     "execution_count": 28,
     "metadata": {},
     "output_type": "execute_result"
    }
   ],
   "source": [
    "s.isalpha()"
   ]
  },
  {
   "cell_type": "markdown",
   "id": "c6d7d416-ba16-4e39-b8ce-e79d7af8b00e",
   "metadata": {},
   "source": [
    "Checks if all chars are letters/digit \n"
   ]
  },
  {
   "cell_type": "code",
   "execution_count": 29,
   "id": "da363508-a9b7-4b11-9d9c-3f8e50340fd6",
   "metadata": {},
   "outputs": [
    {
     "data": {
      "text/plain": [
       "False"
      ]
     },
     "execution_count": 29,
     "metadata": {},
     "output_type": "execute_result"
    }
   ],
   "source": [
    "s.isalnum()"
   ]
  },
  {
   "cell_type": "markdown",
   "id": "db7e4746-df90-4cb1-8343-4ada45fdaac1",
   "metadata": {},
   "source": [
    "slicing"
   ]
  },
  {
   "cell_type": "code",
   "execution_count": 30,
   "id": "e82cfd38-e0c4-4081-84f5-db02a037c528",
   "metadata": {},
   "outputs": [
    {
     "data": {
      "text/plain": [
       "'Pytho'"
      ]
     },
     "execution_count": 30,
     "metadata": {},
     "output_type": "execute_result"
    }
   ],
   "source": [
    "s[0:5]\n"
   ]
  },
  {
   "cell_type": "markdown",
   "id": "c934c3bf-ba6a-4c4a-ab05-c102d3c6b61c",
   "metadata": {},
   "source": [
    "# Negative indexing"
   ]
  },
  {
   "cell_type": "code",
   "execution_count": 31,
   "id": "125e0ca6-a0c9-47cf-926e-1497eeaf94dd",
   "metadata": {},
   "outputs": [
    {
     "data": {
      "text/plain": [
       "'ython is Fu'"
      ]
     },
     "execution_count": 31,
     "metadata": {},
     "output_type": "execute_result"
    }
   ],
   "source": [
    "s[1:-1]"
   ]
  },
  {
   "cell_type": "code",
   "execution_count": 32,
   "id": "305ac76d-ba6a-4f2f-a925-bf13027db106",
   "metadata": {},
   "outputs": [
    {
     "data": {
      "text/plain": [
       "'ython is Fu'"
      ]
     },
     "execution_count": 32,
     "metadata": {},
     "output_type": "execute_result"
    }
   ],
   "source": [
    "s[-12:-1]"
   ]
  },
  {
   "cell_type": "code",
   "execution_count": 33,
   "id": "cb236bbc-6cb1-49eb-b77b-61379e0ae9d6",
   "metadata": {},
   "outputs": [
    {
     "data": {
      "text/plain": [
       "'ython is Fu'"
      ]
     },
     "execution_count": 33,
     "metadata": {},
     "output_type": "execute_result"
    }
   ],
   "source": [
    "s[1:12]"
   ]
  },
  {
   "cell_type": "code",
   "execution_count": null,
   "id": "b2c43a22-b847-44c0-aecb-cc51bf23fe1c",
   "metadata": {},
   "outputs": [],
   "source": []
  }
 ],
 "metadata": {
  "kernelspec": {
   "display_name": "Python [conda env:miniconda3-eda-env]",
   "language": "python",
   "name": "conda-env-miniconda3-eda-env-py"
  },
  "language_info": {
   "codemirror_mode": {
    "name": "ipython",
    "version": 3
   },
   "file_extension": ".py",
   "mimetype": "text/x-python",
   "name": "python",
   "nbconvert_exporter": "python",
   "pygments_lexer": "ipython3",
   "version": "3.10.16"
  }
 },
 "nbformat": 4,
 "nbformat_minor": 5
}
