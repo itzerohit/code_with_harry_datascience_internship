{
 "cells": [
  {
   "cell_type": "code",
   "execution_count": 13,
   "id": "f4cac9f1-010b-4c43-9286-c2687f7aea3b",
   "metadata": {},
   "outputs": [],
   "source": [
    "s = \"Harry\""
   ]
  },
  {
   "cell_type": "code",
   "execution_count": 14,
   "id": "38eb0e5f-d80d-4e94-9e2d-0f37c96f9116",
   "metadata": {},
   "outputs": [
    {
     "data": {
      "text/plain": [
       "'Harry'"
      ]
     },
     "execution_count": 14,
     "metadata": {},
     "output_type": "execute_result"
    }
   ],
   "source": [
    "s"
   ]
  },
  {
   "cell_type": "code",
   "execution_count": 15,
   "id": "4c14543a-89a1-4475-ba5c-e85f42f4419b",
   "metadata": {},
   "outputs": [
    {
     "data": {
      "text/plain": [
       "'a'"
      ]
     },
     "execution_count": 15,
     "metadata": {},
     "output_type": "execute_result"
    }
   ],
   "source": [
    "s[1]"
   ]
  },
  {
   "cell_type": "code",
   "execution_count": 16,
   "id": "d122ef6e-1e09-4e34-b811-7a851e5e5e8f",
   "metadata": {},
   "outputs": [
    {
     "data": {
      "text/plain": [
       "'HARRY'"
      ]
     },
     "execution_count": 16,
     "metadata": {},
     "output_type": "execute_result"
    }
   ],
   "source": [
    "s.upper()"
   ]
  },
  {
   "cell_type": "code",
   "execution_count": 17,
   "id": "b4d306c7-1579-4a22-ba9b-203e6fb214c0",
   "metadata": {},
   "outputs": [
    {
     "data": {
      "text/plain": [
       "'Harry'"
      ]
     },
     "execution_count": 17,
     "metadata": {},
     "output_type": "execute_result"
    }
   ],
   "source": [
    "s"
   ]
  },
  {
   "cell_type": "markdown",
   "id": "c5f7013a-4046-4b3b-b931-e59cd97aeb35",
   "metadata": {},
   "source": [
    "1. Using format"
   ]
  },
  {
   "cell_type": "code",
   "execution_count": 18,
   "id": "e474df24-e9cf-4d76-ab54-3309419cf899",
   "metadata": {},
   "outputs": [
    {
     "name": "stdout",
     "output_type": "stream",
     "text": [
      "My name is Rohit and i am 55 years old.\n"
     ]
    }
   ],
   "source": [
    "name = \"Rohit\"\n",
    "age = \"55\"\n",
    "print(\"My name is {} and i am {} years old.\".format(name,age))"
   ]
  },
  {
   "cell_type": "markdown",
   "id": "6fdf13f6-38a5-47d6-9ba6-537b0dc56b6f",
   "metadata": {},
   "source": [
    "f string"
   ]
  },
  {
   "cell_type": "code",
   "execution_count": 19,
   "id": "ba96f4ec-00c8-433b-b497-d73eddb3c11b",
   "metadata": {},
   "outputs": [
    {
     "name": "stdout",
     "output_type": "stream",
     "text": [
      "My name is Rohit and I am 55 years old.\n"
     ]
    }
   ],
   "source": [
    "print(f\"My name is {name} and I am {age} years old.\")"
   ]
  },
  {
   "cell_type": "markdown",
   "id": "b18246ec-4b1a-4bcb-a9ba-2a2e1b98e34c",
   "metadata": {},
   "source": [
    "2. Expression inside f-strings"
   ]
  },
  {
   "cell_type": "code",
   "execution_count": 23,
   "id": "6fab6765-864d-4022-84fc-b00b26b3f8cc",
   "metadata": {},
   "outputs": [
    {
     "name": "stdout",
     "output_type": "stream",
     "text": [
      "Sum of 5 and 10 is 15\n"
     ]
    }
   ],
   "source": [
    "a = 5\n",
    "b = 10\n",
    "print(f\"Sum of {a} and {b} is {a+b}\")"
   ]
  },
  {
   "cell_type": "markdown",
   "id": "a3924b81-1ebb-432b-902d-06af174cce2d",
   "metadata": {},
   "source": [
    "3. Formatting Numbers "
   ]
  },
  {
   "cell_type": "code",
   "execution_count": 26,
   "id": "c537268d-a696-4373-b87e-b11314735274",
   "metadata": {},
   "outputs": [
    {
     "name": "stdout",
     "output_type": "stream",
     "text": [
      "Pi rounded of 2 decimal places: 3.14\n"
     ]
    }
   ],
   "source": [
    "pi = 3.14159\n",
    "print(f\"Pi rounded of 2 decimal places: {pi:.2f}\")"
   ]
  },
  {
   "cell_type": "markdown",
   "id": "d843b912-93f7-4335-a47f-3388671e6d9e",
   "metadata": {},
   "source": [
    "4. Padding and Alignment"
   ]
  },
  {
   "cell_type": "code",
   "execution_count": 28,
   "id": "03797ef5-3f09-4b82-b7c5-dec99a57a20b",
   "metadata": {},
   "outputs": [
    {
     "name": "stdout",
     "output_type": "stream",
     "text": [
      "Python    \n",
      "    Python\n",
      "  Python  \n"
     ]
    }
   ],
   "source": [
    "print(f\"{'Python':<10}\") # left-align\n",
    "print(f\"{'Python':>10}\") # Right-align\n",
    "print(f\"{'Python': ^10}\") # center-align"
   ]
  },
  {
   "cell_type": "code",
   "execution_count": null,
   "id": "7ddb0ef7-6b44-45f0-884f-08f5551caec1",
   "metadata": {},
   "outputs": [],
   "source": []
  }
 ],
 "metadata": {
  "kernelspec": {
   "display_name": "Python [conda env:miniconda3-eda-env]",
   "language": "python",
   "name": "conda-env-miniconda3-eda-env-py"
  },
  "language_info": {
   "codemirror_mode": {
    "name": "ipython",
    "version": 3
   },
   "file_extension": ".py",
   "mimetype": "text/x-python",
   "name": "python",
   "nbconvert_exporter": "python",
   "pygments_lexer": "ipython3",
   "version": "3.10.16"
  }
 },
 "nbformat": 4,
 "nbformat_minor": 5
}
