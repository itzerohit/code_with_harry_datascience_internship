{
 "cells": [
  {
   "cell_type": "code",
   "execution_count": 5,
   "id": "734f1f35-8e6f-45fa-be3b-5f461e44f352",
   "metadata": {},
   "outputs": [],
   "source": [
    "a = 400\n"
   ]
  },
  {
   "cell_type": "code",
   "execution_count": 6,
   "id": "661250b4-709c-4bc5-b7b2-44888574e2d1",
   "metadata": {},
   "outputs": [
    {
     "name": "stdout",
     "output_type": "stream",
     "text": [
      "Greater\n"
     ]
    }
   ],
   "source": [
    "if (a > 15):\n",
    "    print(\"Greater\")\n",
    "else:\n",
    "    print(\"Smaller\")\n"
   ]
  },
  {
   "cell_type": "code",
   "execution_count": 7,
   "id": "c879e880-b5fc-4336-ab3b-83e80bb1aa9a",
   "metadata": {},
   "outputs": [
    {
     "name": "stdout",
     "output_type": "stream",
     "text": [
      "Greater\n"
     ]
    }
   ],
   "source": [
    "if a > 5:\n",
    "    print(\"Greater\")\n",
    "elif a == 5:\n",
    "    print(\"Equal to\")\n",
    "else:\n",
    "    print(\"Smaller\")"
   ]
  },
  {
   "cell_type": "markdown",
   "id": "c4d1b21e-6ad6-45f5-8636-221ed10f5224",
   "metadata": {},
   "source": [
    "# Functions in Python"
   ]
  },
  {
   "cell_type": "markdown",
   "id": "03d24ac0-3e7b-41f0-bfa5-70e11551de3a",
   "metadata": {},
   "source": [
    "A function is a reusable block of code that performs a specific task"
   ]
  },
  {
   "cell_type": "markdown",
   "id": "d52143b8-d0ed-4841-b5f6-2908c65af897",
   "metadata": {},
   "source": [
    "1. Defining a Function"
   ]
  },
  {
   "cell_type": "code",
   "execution_count": 10,
   "id": "d66c32a6-568c-4a80-979e-834fd13942da",
   "metadata": {},
   "outputs": [],
   "source": [
    "def greet(name):\n",
    "    return f\"Hello, {name}!\""
   ]
  },
  {
   "cell_type": "markdown",
   "id": "07c157d9-ffcf-4c83-a6b7-d5dedb8f577b",
   "metadata": {},
   "source": [
    "2. Calling a Function"
   ]
  },
  {
   "cell_type": "code",
   "execution_count": 12,
   "id": "18f86ef1-48cc-4fb2-89af-d69398a58340",
   "metadata": {},
   "outputs": [
    {
     "name": "stdout",
     "output_type": "stream",
     "text": [
      "Hello, Alice!\n"
     ]
    }
   ],
   "source": [
    "print(greet(\"Alice\"))"
   ]
  },
  {
   "cell_type": "markdown",
   "id": "4be04069-b5fa-4ee7-82b5-6a5d9996984c",
   "metadata": {},
   "source": [
    "3. Function with default argument"
   ]
  },
  {
   "cell_type": "code",
   "execution_count": 14,
   "id": "a32c2b0f-8eff-462e-914e-df7aa581a141",
   "metadata": {},
   "outputs": [],
   "source": [
    "def greet(name=\"Guest\"):\n",
    "    return f\"Hello, {name}!\""
   ]
  },
  {
   "cell_type": "markdown",
   "id": "3a00493e-7296-4015-b06f-38e83206b254",
   "metadata": {},
   "source": [
    "4. Function with Multiple arguments "
   ]
  },
  {
   "cell_type": "code",
   "execution_count": 15,
   "id": "13dc879b-5aa5-4db0-ad18-ac8e13a088a3",
   "metadata": {},
   "outputs": [
    {
     "name": "stdout",
     "output_type": "stream",
     "text": [
      "8\n"
     ]
    }
   ],
   "source": [
    "def add(a,b):\n",
    "    return a + b\n",
    "print(add(3, 5))"
   ]
  },
  {
   "cell_type": "code",
   "execution_count": null,
   "id": "073c00bb-1c8e-4da6-a9db-e181f06b5c70",
   "metadata": {},
   "outputs": [],
   "source": []
  }
 ],
 "metadata": {
  "kernelspec": {
   "display_name": "Python [conda env:miniconda3-eda-env]",
   "language": "python",
   "name": "conda-env-miniconda3-eda-env-py"
  },
  "language_info": {
   "codemirror_mode": {
    "name": "ipython",
    "version": 3
   },
   "file_extension": ".py",
   "mimetype": "text/x-python",
   "name": "python",
   "nbconvert_exporter": "python",
   "pygments_lexer": "ipython3",
   "version": "3.10.16"
  }
 },
 "nbformat": 4,
 "nbformat_minor": 5
}
