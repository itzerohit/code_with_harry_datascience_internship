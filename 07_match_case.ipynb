{
 "cells": [
  {
   "cell_type": "code",
   "execution_count": 1,
   "id": "ba251330-bfcd-4015-a595-d17ac1a2c3af",
   "metadata": {},
   "outputs": [],
   "source": [
    "code = 2000"
   ]
  },
  {
   "cell_type": "code",
   "execution_count": 2,
   "id": "e29358ea-66ef-4a4f-8549-df9ece44035c",
   "metadata": {},
   "outputs": [
    {
     "name": "stdout",
     "output_type": "stream",
     "text": [
      "Nothing matched\n",
      "End of Program\n"
     ]
    }
   ],
   "source": [
    "match code:\n",
    "    case 200:\n",
    "        print(\"Response ok\")\n",
    "        print(\"Good Job\")\n",
    "    case 400:\n",
    "        print(\"Bad Response\")\n",
    "    case 404:\n",
    "        print(\"Not Found\")\n",
    "    case _:\n",
    "        print(\"Nothing matched\")\n",
    "print(\"End of Program\")\n"
   ]
  },
  {
   "cell_type": "code",
   "execution_count": 7,
   "id": "76024a3b-955f-4b7e-9465-a4843cb664bd",
   "metadata": {},
   "outputs": [],
   "source": [
    "point = (3,4)"
   ]
  },
  {
   "cell_type": "code",
   "execution_count": 8,
   "id": "322de37a-4988-42c0-9361-e3981a103185",
   "metadata": {},
   "outputs": [
    {
     "name": "stdout",
     "output_type": "stream",
     "text": [
      "Point at (3, 4)\n"
     ]
    }
   ],
   "source": [
    "match point:\n",
    "    case (0,0):\n",
    "        print(\"Origin\")\n",
    "    case (x,0):\n",
    "        print(f\"X-Axis at {x}\")\n",
    "    case (0,y):\n",
    "        print(f\"Y-Axis at {y}\")\n",
    "    case (x,y):\n",
    "        print(f\"Point at ({x}, {y})\")\n"
   ]
  },
  {
   "cell_type": "code",
   "execution_count": null,
   "id": "87cb6727-836f-45a9-afa0-e528e501a8f6",
   "metadata": {},
   "outputs": [],
   "source": []
  }
 ],
 "metadata": {
  "kernelspec": {
   "display_name": "Python [conda env:miniconda3-eda-env]",
   "language": "python",
   "name": "conda-env-miniconda3-eda-env-py"
  },
  "language_info": {
   "codemirror_mode": {
    "name": "ipython",
    "version": 3
   },
   "file_extension": ".py",
   "mimetype": "text/x-python",
   "name": "python",
   "nbconvert_exporter": "python",
   "pygments_lexer": "ipython3",
   "version": "3.10.16"
  }
 },
 "nbformat": 4,
 "nbformat_minor": 5
}
