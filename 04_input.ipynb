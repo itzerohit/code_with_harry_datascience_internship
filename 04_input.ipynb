{
 "cells": [
  {
   "cell_type": "markdown",
   "id": "c392c5a9-5295-4203-8497-6ac86930ebe5",
   "metadata": {},
   "source": [
    "# Taking input from the user"
   ]
  },
  {
   "cell_type": "code",
   "execution_count": 1,
   "id": "32a5df91-ce11-4cb1-ad49-998612ce4740",
   "metadata": {},
   "outputs": [
    {
     "name": "stdin",
     "output_type": "stream",
     "text": [
      "Enter the value of a 10\n"
     ]
    }
   ],
   "source": [
    "a = input(\"Enter the value of a\") # By default it will takeinput as a string "
   ]
  },
  {
   "cell_type": "code",
   "execution_count": 2,
   "id": "d9db2762-f5c4-4a42-91d2-025449ab05e1",
   "metadata": {},
   "outputs": [
    {
     "data": {
      "text/plain": [
       "'10'"
      ]
     },
     "execution_count": 2,
     "metadata": {},
     "output_type": "execute_result"
    }
   ],
   "source": [
    "a\n"
   ]
  },
  {
   "cell_type": "code",
   "execution_count": 3,
   "id": "e3ed00c3-56cc-4008-89b1-bac2e0e8b4c4",
   "metadata": {},
   "outputs": [
    {
     "name": "stdin",
     "output_type": "stream",
     "text": [
      "Enter the value of b 29\n"
     ]
    }
   ],
   "source": [
    "b = input(\"Enter th value of b\")"
   ]
  },
  {
   "cell_type": "code",
   "execution_count": 4,
   "id": "9d7bf1f2-e6c2-4655-8284-d61d3781031d",
   "metadata": {},
   "outputs": [
    {
     "data": {
      "text/plain": [
       "'29'"
      ]
     },
     "execution_count": 4,
     "metadata": {},
     "output_type": "execute_result"
    }
   ],
   "source": [
    "b"
   ]
  },
  {
   "cell_type": "code",
   "execution_count": 6,
   "id": "8d8a6c4c-5cdb-4e19-93a1-809dea885ed1",
   "metadata": {},
   "outputs": [
    {
     "data": {
      "text/plain": [
       "39"
      ]
     },
     "execution_count": 6,
     "metadata": {},
     "output_type": "execute_result"
    }
   ],
   "source": [
    "int(a) + int(b)"
   ]
  },
  {
   "cell_type": "code",
   "execution_count": 7,
   "id": "37df9c0d-f713-4dbd-a98a-39c23351039f",
   "metadata": {},
   "outputs": [
    {
     "data": {
      "text/plain": [
       "'1029'"
      ]
     },
     "execution_count": 7,
     "metadata": {},
     "output_type": "execute_result"
    }
   ],
   "source": [
    "a + b"
   ]
  },
  {
   "cell_type": "code",
   "execution_count": 8,
   "id": "2bf7bc9b-1a2e-461b-ade7-5caa6bd8ad88",
   "metadata": {},
   "outputs": [
    {
     "name": "stdin",
     "output_type": "stream",
     "text": [
      " 45\n"
     ]
    }
   ],
   "source": [
    "c = input()"
   ]
  },
  {
   "cell_type": "code",
   "execution_count": 9,
   "id": "c623d60d-a789-4d0a-b7fd-326a5edad936",
   "metadata": {},
   "outputs": [
    {
     "data": {
      "text/plain": [
       "'45'"
      ]
     },
     "execution_count": 9,
     "metadata": {},
     "output_type": "execute_result"
    }
   ],
   "source": [
    "c"
   ]
  },
  {
   "cell_type": "code",
   "execution_count": null,
   "id": "3270268e-1c0f-4dea-8415-acf37cf3f085",
   "metadata": {},
   "outputs": [],
   "source": []
  }
 ],
 "metadata": {
  "kernelspec": {
   "display_name": "Python [conda env:miniconda3-eda-env]",
   "language": "python",
   "name": "conda-env-miniconda3-eda-env-py"
  },
  "language_info": {
   "codemirror_mode": {
    "name": "ipython",
    "version": 3
   },
   "file_extension": ".py",
   "mimetype": "text/x-python",
   "name": "python",
   "nbconvert_exporter": "python",
   "pygments_lexer": "ipython3",
   "version": "3.10.16"
  }
 },
 "nbformat": 4,
 "nbformat_minor": 5
}
