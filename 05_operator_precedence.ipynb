{
 "cells": [
  {
   "cell_type": "markdown",
   "id": "428f83e6-73cb-4fee-bde4-87926e5c7863",
   "metadata": {},
   "source": [
    "look in python the ** this has the preference to move from right to left but other than this all have precedence to move from left to right"
   ]
  },
  {
   "cell_type": "markdown",
   "id": "9799ebe0-554d-41ad-b887-22433e658fb0",
   "metadata": {},
   "source": []
  }
 ],
 "metadata": {
  "kernelspec": {
   "display_name": "Python [conda env:miniconda3-eda-env]",
   "language": "python",
   "name": "conda-env-miniconda3-eda-env-py"
  },
  "language_info": {
   "codemirror_mode": {
    "name": "ipython",
    "version": 3
   },
   "file_extension": ".py",
   "mimetype": "text/x-python",
   "name": "python",
   "nbconvert_exporter": "python",
   "pygments_lexer": "ipython3",
   "version": "3.10.16"
  }
 },
 "nbformat": 4,
 "nbformat_minor": 5
}
