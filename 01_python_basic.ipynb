{
 "cells": [
  {
   "cell_type": "code",
   "execution_count": 1,
   "id": "ee4a98b6-13ba-4b55-b048-f0f6779ce4ff",
   "metadata": {},
   "outputs": [],
   "source": [
    "a = 5\n"
   ]
  },
  {
   "cell_type": "code",
   "execution_count": 2,
   "id": "77cd1263-550d-4ea7-8584-58f78816cad7",
   "metadata": {},
   "outputs": [],
   "source": [
    "b = 32"
   ]
  },
  {
   "cell_type": "code",
   "execution_count": 3,
   "id": "b1db9c2e-c935-4ceb-b897-ffdf946d4bc6",
   "metadata": {},
   "outputs": [
    {
     "data": {
      "text/plain": [
       "37"
      ]
     },
     "execution_count": 3,
     "metadata": {},
     "output_type": "execute_result"
    }
   ],
   "source": [
    "a+b"
   ]
  },
  {
   "cell_type": "code",
   "execution_count": 6,
   "id": "8b13436c-60f0-4e61-ad79-dcb2c3f714da",
   "metadata": {},
   "outputs": [],
   "source": [
    "name = \"rohit\""
   ]
  },
  {
   "cell_type": "code",
   "execution_count": 7,
   "id": "99db2054-da95-49dc-b637-5fad82e18ad0",
   "metadata": {},
   "outputs": [
    {
     "data": {
      "text/plain": [
       "'rohit'"
      ]
     },
     "execution_count": 7,
     "metadata": {},
     "output_type": "execute_result"
    }
   ],
   "source": [
    "name"
   ]
  },
  {
   "cell_type": "code",
   "execution_count": 9,
   "id": "d1a7cebb-234c-40de-ba4d-4521fc274355",
   "metadata": {},
   "outputs": [
    {
     "name": "stdout",
     "output_type": "stream",
     "text": [
      "Hello World\n"
     ]
    }
   ],
   "source": [
    "print(\"Hello World\") # This will print hello world on the screen "
   ]
  },
  {
   "cell_type": "markdown",
   "id": "d37fcfc5-dd31-42f8-97c8-54d192d4c81a",
   "metadata": {},
   "source": [
    "# This is a comment "
   ]
  },
  {
   "cell_type": "code",
   "execution_count": 12,
   "id": "964ccc7d-c8bd-4be9-b543-cdaf26b2525b",
   "metadata": {},
   "outputs": [
    {
     "name": "stdout",
     "output_type": "stream",
     "text": [
      "<class 'int'>\n"
     ]
    }
   ],
   "source": [
    "print(type(a))"
   ]
  },
  {
   "cell_type": "code",
   "execution_count": 13,
   "id": "dc2f075e-6908-4faf-aeee-5ca122750fe5",
   "metadata": {},
   "outputs": [
    {
     "name": "stdout",
     "output_type": "stream",
     "text": [
      "<class 'str'>\n"
     ]
    }
   ],
   "source": [
    "print(type(name))"
   ]
  },
  {
   "cell_type": "code",
   "execution_count": 15,
   "id": "37eab052-0d09-4000-a528-cc9f9c319c87",
   "metadata": {},
   "outputs": [],
   "source": [
    "x = 10  # Integer \n",
    "y = 3.14 # Float\n",
    "name = \"jack\" # String\n",
    "is_vJackd = True # Boolean"
   ]
  },
  {
   "cell_type": "markdown",
   "id": "87430f11-adbb-4139-be8b-bf3f5d56636a",
   "metadata": {},
   "source": [
    "Typecasting"
   ]
  },
  {
   "cell_type": "code",
   "execution_count": 16,
   "id": "faf49980-c177-4763-98fd-837002e8f1e1",
   "metadata": {},
   "outputs": [],
   "source": [
    "a = \"4556\""
   ]
  },
  {
   "cell_type": "code",
   "execution_count": 17,
   "id": "2f7ba56d-ae85-4323-ba4f-5c8214fc00af",
   "metadata": {},
   "outputs": [],
   "source": [
    "b = \"5667\""
   ]
  },
  {
   "cell_type": "code",
   "execution_count": 18,
   "id": "8a0f8564-a57b-4b2d-b36a-08eaef4ed9db",
   "metadata": {},
   "outputs": [
    {
     "name": "stdout",
     "output_type": "stream",
     "text": [
      "45565667\n"
     ]
    }
   ],
   "source": [
    "print(a+b) # The above both are string so the result will be catcatenate "
   ]
  },
  {
   "cell_type": "code",
   "execution_count": 19,
   "id": "68014e1f-b117-4199-8f8b-61216e8bd3d6",
   "metadata": {},
   "outputs": [
    {
     "data": {
      "text/plain": [
       "10223"
      ]
     },
     "execution_count": 19,
     "metadata": {},
     "output_type": "execute_result"
    }
   ],
   "source": [
    "int(a) + int(b) # This is basically a typecasting "
   ]
  },
  {
   "cell_type": "code",
   "execution_count": null,
   "id": "6f97e0e3-d3be-4ef4-b8ed-5fe71a2b41bb",
   "metadata": {},
   "outputs": [],
   "source": []
  }
 ],
 "metadata": {
  "kernelspec": {
   "display_name": "Python [conda env:miniconda3-eda-env]",
   "language": "python",
   "name": "conda-env-miniconda3-eda-env-py"
  },
  "language_info": {
   "codemirror_mode": {
    "name": "ipython",
    "version": 3
   },
   "file_extension": ".py",
   "mimetype": "text/x-python",
   "name": "python",
   "nbconvert_exporter": "python",
   "pygments_lexer": "ipython3",
   "version": "3.10.16"
  }
 },
 "nbformat": 4,
 "nbformat_minor": 5
}
